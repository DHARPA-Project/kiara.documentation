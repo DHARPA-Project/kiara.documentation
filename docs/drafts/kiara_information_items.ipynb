{
 "cells": [
  {
   "cell_type": "code",
   "execution_count": 6,
   "metadata": {
    "collapsed": true
   },
   "outputs": [],
   "source": []
  },
  {
   "cell_type": "markdown",
   "source": [
    "This notebook outlines the sort of information that is available in kiara, which could be included in the codeview and/or rendered notebook."
   ],
   "metadata": {
    "collapsed": false,
    "pycharm": {
     "name": "#%% md\n"
    }
   }
  },
  {
   "cell_type": "code",
   "execution_count": 7,
   "outputs": [],
   "source": [
    "from kiara import Kiara\n",
    "\n",
    "kiara = Kiara.instance()"
   ],
   "metadata": {
    "collapsed": false,
    "pycharm": {
     "name": "#%%\n"
    }
   }
  },
  {
   "cell_type": "markdown",
   "source": [
    "# Module-related information\n",
    "\n",
    "Kiara modules are Python classes that inherit from the [KiaraModule](https://dharpa.org/kiara/api_reference/kiara.module/#kiara.module.KiaraModule) base class.\n",
    "\n",
    "A module can only be used when it was instantiated with some configuration (which can be empty), which means that there are 2 ways to look at a module:\n",
    "\n",
    "- the module class\n",
    "- an instance of the module class, that was created with module configuration\n",
    "\n",
    "## The module class\n",
    "\n",
    "Module class information is static, and contains information about its purpopse (aka documentation), who created it, where it lives, etc.\n",
    "\n",
    "Here is a list of attributes that can be queried for a module class\n",
    "\n",
    "### Module id\n",
    "\n",
    "Technically not really an attribute, but it makes sense to mention it explicitely. This is the name that is used to refer to a module class. In most circumstances it's a namespaced string (using '.' as separators), like:\n",
    "\n",
    "- 'network.graph.find_shortest_path'\n",
    "- 'table.import.from_local_file'\n",
    "- 'language.tokens.remove_stopwords'\n",
    "\n",
    "There is no hard rule about how those modules should be named, in general it's just advisable to make the purpose of the module (and also maybe the data type it operates on) clear to users without having to read further documentation.\n",
    "\n",
    "### Module type documentation\n",
    "\n",
    "This can be considered 2 different things, even though the first one is included in the 2nd.\n",
    "\n",
    "#### Module description\n",
    "\n",
    "A single sentence that describes the module purpose."
   ],
   "metadata": {
    "collapsed": false,
    "pycharm": {
     "name": "#%% md\n"
    }
   }
  },
  {
   "cell_type": "code",
   "execution_count": 8,
   "outputs": [
    {
     "data": {
      "text/plain": "'Import a supported file and create a table from it.'"
     },
     "execution_count": 8,
     "metadata": {},
     "output_type": "execute_result"
    }
   ],
   "source": [
    "import_file_module = kiara.get_module_class(\"table.import.from_local_file\")\n",
    "\n",
    "import_file_module_type_metadta = import_file_module.get_type_metadata()\n",
    "import_file_module_type_metadta.documentation.description"
   ],
   "metadata": {
    "collapsed": false,
    "pycharm": {
     "name": "#%%\n"
    }
   }
  },
  {
   "cell_type": "markdown",
   "source": [
    "#### Module documentation\n",
    "\n",
    "One or several paragraphs of markdown text that describe in detail (hopefully) what the module does, and how it does those things. The 'Module description' is included in this text, as the first paragraph."
   ],
   "metadata": {
    "collapsed": false,
    "pycharm": {
     "name": "#%% md\n"
    }
   }
  },
  {
   "cell_type": "code",
   "execution_count": 9,
   "outputs": [
    {
     "data": {
      "text/plain": "'Import a supported file and create a table from it.\\n\\nCurrently, only csv files are supported.'"
     },
     "execution_count": 9,
     "metadata": {},
     "output_type": "execute_result"
    }
   ],
   "source": [
    "import_file_module_type_metadta.documentation.full_doc"
   ],
   "metadata": {
    "collapsed": false,
    "pycharm": {
     "name": "#%%\n"
    }
   }
  },
  {
   "cell_type": "markdown",
   "source": [
    "#### Origin\n",
    "\n",
    "Mostly, this is authorship information. But could potentially also include things like copyright, etc."
   ],
   "metadata": {
    "collapsed": false,
    "pycharm": {
     "name": "#%% md\n"
    }
   }
  },
  {
   "cell_type": "code",
   "execution_count": 11,
   "outputs": [
    {
     "data": {
      "text/plain": "[AuthorModel(name='Markus Binsteiner', email='markus@frkl.io')]"
     },
     "execution_count": 11,
     "metadata": {},
     "output_type": "execute_result"
    }
   ],
   "source": [
    "import_file_module_type_metadta.origin.authors"
   ],
   "metadata": {
    "collapsed": false,
    "pycharm": {
     "name": "#%%\n"
    }
   }
  },
  {
   "cell_type": "markdown",
   "source": [
    "#### Context\n",
    "\n",
    "This describes the context the module lives in (like Python package, git repo, etc.), and some of the properties that help distinguish/filter it from the other modules that live in the same place.\n",
    "\n",
    "##### Tags\n",
    "\n",
    "Tags here are keywords that are associated with some of the modules properties."
   ],
   "metadata": {
    "collapsed": false,
    "pycharm": {
     "name": "#%% md\n"
    }
   }
  },
  {
   "cell_type": "code",
   "execution_count": 12,
   "outputs": [
    {
     "data": {
      "text/plain": "{'core', 'import', 'onboarding', 'pipeline'}"
     },
     "execution_count": 12,
     "metadata": {},
     "output_type": "execute_result"
    }
   ],
   "source": [
    "module_type_context = import_file_module_type_metadta.context\n",
    "module_type_context.tags"
   ],
   "metadata": {
    "collapsed": false,
    "pycharm": {
     "name": "#%%\n"
    }
   }
  },
  {
   "cell_type": "markdown",
   "source": [
    "##### Labels\n",
    "\n",
    "Labels are similar to tags, but are in a key/value pair form. This makes it easier to query for certain aspects that modules share (like whether they are a pipline-type module, or not)."
   ],
   "metadata": {
    "collapsed": false,
    "pycharm": {
     "name": "#%% md\n"
    }
   }
  },
  {
   "cell_type": "code",
   "execution_count": 13,
   "outputs": [
    {
     "data": {
      "text/plain": "{'package': 'kiara_modules.core', 'pipeline': 'yes'}"
     },
     "execution_count": 13,
     "metadata": {},
     "output_type": "execute_result"
    }
   ],
   "source": [
    "module_type_context.labels"
   ],
   "metadata": {
    "collapsed": false,
    "pycharm": {
     "name": "#%%\n"
    }
   }
  },
  {
   "cell_type": "markdown",
   "source": [
    "##### References\n",
    "\n",
    "The 'references' value in the context is a free form key-/value pair dictionary (similar to labels), that contain links to urls that are relevant to or important for the module."
   ],
   "metadata": {
    "collapsed": false,
    "pycharm": {
     "name": "#%% md\n"
    }
   }
  },
  {
   "cell_type": "code",
   "execution_count": 16,
   "outputs": [
    {
     "data": {
      "text/plain": "{'source_repo': LinkModel(url=AnyUrl('https://github.com/DHARPA-Project/kiara_modules.core', scheme='https', host='github.com', tld='com', host_type='domain', path='/DHARPA-Project/kiara_modules.core'), desc='The module package git repository.'),\n 'documentation': LinkModel(url=AnyUrl('https://dharpa.org/kiara_modules.core/', scheme='https', host='dharpa.org', tld='org', host_type='domain', path='/kiara_modules.core/'), desc='The url for the module package documentation.'),\n 'module_doc': LinkModel(url=AnyUrl('https://dharpa.org/kiara_modules.core/pipelines_list.html#tableimportfrom_local_file', scheme='https', host='dharpa.org', tld='org', host_type='domain', path='/kiara_modules.core/pipelines_list.html', fragment='tableimportfrom_local_file'), desc='A link to the published, auto-generated module documentation.')}"
     },
     "execution_count": 16,
     "metadata": {},
     "output_type": "execute_result"
    }
   ],
   "source": [
    "module_type_context.references"
   ],
   "metadata": {
    "collapsed": false,
    "pycharm": {
     "name": "#%%\n"
    }
   }
  },
  {
   "cell_type": "markdown",
   "source": [
    "#### Python class\n",
    "\n",
    "This section contains information about the underlying Python class of the module. If the module is assembled from a pipeline description, *kiara* dyanmically creates a Python class for it, so you might or might not find the Python class in the source files, depending on that. In the following, you wouldn't, for example."
   ],
   "metadata": {
    "collapsed": false,
    "pycharm": {
     "name": "#%% md\n"
    }
   }
  },
  {
   "cell_type": "code",
   "execution_count": 17,
   "outputs": [
    {
     "data": {
      "text/plain": "                                                                                  \n \u001B[3m \u001B[0m\u001B[3mclass_name \u001B[0m\u001B[3m \u001B[0m  TableImportFromLocalFilePipelineModule                            \n \u001B[3m \u001B[0m\u001B[3mmodule_name\u001B[0m\u001B[3m \u001B[0m  kiara_modules.core.import                                         \n \u001B[3m \u001B[0m\u001B[3mfull_name  \u001B[0m\u001B[3m \u001B[0m  kiara_modules.core.import.TableImportFromLocalFilePipelineModule  \n                                                                                  \n",
      "text/html": "<pre style=\"white-space:pre;overflow-x:auto;line-height:normal;font-family:Menlo,'DejaVu Sans Mono',consolas,'Courier New',monospace\">                                                                                  \n <span style=\"font-style: italic\"> class_name  </span>  TableImportFromLocalFilePipelineModule                            \n <span style=\"font-style: italic\"> module_name </span>  kiara_modules.core.import                                         \n <span style=\"font-style: italic\"> full_name   </span>  kiara_modules.core.import.TableImportFromLocalFilePipelineModule  \n                                                                                  \n</pre>\n"
     },
     "execution_count": 17,
     "metadata": {},
     "output_type": "execute_result"
    }
   ],
   "source": [
    "import_file_module_type_metadta.python_class"
   ],
   "metadata": {
    "collapsed": false,
    "pycharm": {
     "name": "#%%\n"
    }
   }
  },
  {
   "cell_type": "markdown",
   "source": [
    "#### Pipeline config / Source code\n",
    "\n",
    "Depending on whether the module is a pipeline module, or not, this section will differ.\n",
    "\n",
    "##### Pipeline config\n",
    "\n",
    "In the case of a pipeline, you'll the the configuration that was used to produce it.\n"
   ],
   "metadata": {
    "collapsed": false,
    "pycharm": {
     "name": "#%% md\n"
    }
   }
  },
  {
   "cell_type": "code",
   "execution_count": 19,
   "outputs": [
    {
     "data": {
      "text/plain": "{'constants': {},\n 'defaults': {},\n 'steps': [{'module_type': 'import.local_file',\n   'module_config': {},\n   'step_id': 'read_file',\n   'input_links': {}},\n  {'module_type': 'table.create.from_file',\n   'module_config': {},\n   'step_id': 'create_table_from_file',\n   'input_links': {'file': [{'step_id': 'read_file',\n      'value_name': 'file',\n      'sub_value': None}]}},\n  {'module_type': 'value.save',\n   'module_config': {'value_type': 'table'},\n   'step_id': 'save_table',\n   'input_links': {'value_item': [{'step_id': 'create_table_from_file',\n      'value_name': 'table',\n      'sub_value': None}]}}],\n 'input_aliases': {'read_file__path': 'path',\n  'read_file__aliases': 'file_aliases',\n  'save_table__aliases': 'aliases'},\n 'output_aliases': {'create_table_from_file__table': 'table',\n  'save_table__value_id': 'value_id'},\n 'documentation': 'Import a supported file and create a table from it.\\n\\nCurrently, only csv files are supported.\\n',\n 'context': {},\n 'module_type_name': 'from_local_file'}"
     },
     "execution_count": 19,
     "metadata": {},
     "output_type": "execute_result"
    }
   ],
   "source": [
    "import_file_module_type_metadta.pipeline_config.dict()"
   ],
   "metadata": {
    "collapsed": false,
    "pycharm": {
     "name": "#%%\n"
    }
   }
  },
  {
   "cell_type": "markdown",
   "source": [
    "##### Source code\n",
    "\n",
    "And for Python modules, you can display the source code of the ``process`` method (which is the one where the important stuff happens)."
   ],
   "metadata": {
    "collapsed": false,
    "pycharm": {
     "name": "#%% md\n"
    }
   }
  },
  {
   "cell_type": "code",
   "execution_count": 21,
   "outputs": [
    {
     "name": "stdout",
     "output_type": "stream",
     "text": [
      "def process(self, inputs: ValueSet, outputs: ValueSet) -> None:\n",
      "\n",
      "    import duckdb\n",
      "\n",
      "    _relation_name: str = inputs.get_value_data(\"relation_name\")\n",
      "    if _relation_name.upper() in RESERVED_SQL_KEYWORDS:\n",
      "        raise KiaraProcessingException(\n",
      "            f\"Invalid relation name '{_relation_name}': this is a reserved sql keyword, please select a different name.\"\n",
      "        )\n",
      "\n",
      "    _table = inputs.get_value_data(\"table\")\n",
      "    _query = inputs.get_value_data(\"query\")\n",
      "\n",
      "    relation: duckdb.DuckDBPyRelation = duckdb.arrow(_table)\n",
      "    result: duckdb.DuckDBPyResult = relation.query(_relation_name, _query)\n",
      "\n",
      "    outputs.set_value(\"query_result\", result.arrow())\n",
      "\n"
     ]
    }
   ],
   "source": [
    "sql_query_model = kiara.get_module_class(\"table.query.sql\")\n",
    "print(sql_query_model.get_type_metadata().process_src)"
   ],
   "metadata": {
    "collapsed": false,
    "pycharm": {
     "name": "#%%\n"
    }
   }
  }
 ],
 "metadata": {
  "kernelspec": {
   "display_name": "Python 3",
   "language": "python",
   "name": "python3"
  },
  "language_info": {
   "codemirror_mode": {
    "name": "ipython",
    "version": 2
   },
   "file_extension": ".py",
   "mimetype": "text/x-python",
   "name": "python",
   "nbconvert_exporter": "python",
   "pygments_lexer": "ipython2",
   "version": "2.7.6"
  }
 },
 "nbformat": 4,
 "nbformat_minor": 0
}
